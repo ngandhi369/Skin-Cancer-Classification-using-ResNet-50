{
  "cells": [
    {
      "cell_type": "code",
      "execution_count": null,
      "metadata": {
        "id": "VO_mSYZF-lpi"
      },
      "outputs": [],
      "source": [
        "import numpy as np\n",
        "import os\n",
        "import pandas as pd\n",
        "import tensorflow as tf\n",
        "import matplotlib.pyplot as plt"
      ]
    },
    {
      "cell_type": "code",
      "execution_count": null,
      "metadata": {
        "id": "Myd8L21u-1nI"
      },
      "outputs": [],
      "source": [
        "from google.colab import drive\n",
        "drive.mount('/content/gdrive')"
      ]
    },
    {
      "cell_type": "code",
      "execution_count": null,
      "metadata": {
        "id": "ChxtzP3M_WD8"
      },
      "outputs": [],
      "source": [
        "os.listdir(\"/content/gdrive/MyDrive/archive\")"
      ]
    },
    {
      "cell_type": "code",
      "execution_count": null,
      "metadata": {
        "id": "qGjhaSFtbi5j"
      },
      "outputs": [],
      "source": [
        "os.listdir(\"/content/gdrive/MyDrive/archive/skin/train_set\")"
      ]
    },
    {
      "cell_type": "code",
      "source": [
        "os.listdir(\"/content/gdrive/MyDrive/archive/skin/test_set\")"
      ],
      "metadata": {
        "id": "rR2QObj69wkd"
      },
      "execution_count": null,
      "outputs": []
    },
    {
      "cell_type": "code",
      "execution_count": null,
      "metadata": {
        "id": "4Bcy-Ju7cgGj"
      },
      "outputs": [],
      "source": [
        "import tensorflow as tf\n",
        "import os\n",
        "from keras.models import Sequential\n",
        "from tensorflow.keras.layers import Dense\n",
        "from tensorflow.keras.layers import Flatten\n",
        "from tensorflow.keras.layers import Conv2D\n",
        "from tensorflow.keras.layers import Dropout\n",
        "from tensorflow.keras import Model\n",
        "from tensorflow.keras.preprocessing.image import ImageDataGenerator\n",
        "from tensorflow.keras.optimizers import Adam\n",
        "from tensorflow.keras import layers"
      ]
    },
    {
      "cell_type": "code",
      "source": [
        "from tensorflow.keras.applications.resnet50 import ResNet50"
      ],
      "metadata": {
        "id": "ku3MOhge0Vwz"
      },
      "execution_count": null,
      "outputs": []
    },
    {
      "cell_type": "code",
      "execution_count": null,
      "metadata": {
        "id": "_oyzvu_3dC7N"
      },
      "outputs": [],
      "source": [
        "train_dir=\"/content/gdrive/MyDrive/archive/skin/train_set\""
      ]
    },
    {
      "cell_type": "code",
      "source": [
        "test__dir=\"/content/gdrive/MyDrive/archive/skin/test_set\""
      ],
      "metadata": {
        "id": "eKPU_j9x9ynt"
      },
      "execution_count": null,
      "outputs": []
    },
    {
      "cell_type": "code",
      "execution_count": null,
      "metadata": {
        "id": "AKU8vOBFdRQ8"
      },
      "outputs": [],
      "source": [
        "label=[\"'malignant\",\"benign\"]"
      ]
    },
    {
      "cell_type": "code",
      "execution_count": null,
      "metadata": {
        "id": "RIjfnhlvkfoh"
      },
      "outputs": [],
      "source": [
        "print(\"class\")\n",
        "for i in range(len(label)):\n",
        "  print(i,end=\" \")\n",
        "  print(label[i])"
      ]
    },
    {
      "cell_type": "code",
      "execution_count": null,
      "metadata": {
        "id": "aZTAkKmdlSao"
      },
      "outputs": [],
      "source": [
        "print(\"number of classes:\",len(label))"
      ]
    },
    {
      "cell_type": "code",
      "source": [
        "import numpy as np\n",
        "import matplotlib.pyplot as plt\n",
        "import seaborn as sns\n",
        "from sklearn.metrics import confusion_matrix\n",
        "from keras.preprocessing.image import ImageDataGenerator\n",
        "from keras.models import Model"
      ],
      "metadata": {
        "id": "7J8XYSTvIDIU"
      },
      "execution_count": null,
      "outputs": []
    },
    {
      "cell_type": "code",
      "source": [
        "# Define data directories\n",
        "train_dir =\"/content/gdrive/MyDrive/archive/skin/train_set\"\n",
        "test_dir = \"/content/gdrive/MyDrive/archive/skin/test_set\""
      ],
      "metadata": {
        "id": "S8gGN0L0I6d9"
      },
      "execution_count": null,
      "outputs": []
    },
    {
      "cell_type": "code",
      "source": [
        "# Define data generators for training and testing data\n",
        "train_datagen = ImageDataGenerator(rescale=1./255,\n",
        "                                   shear_range=0.2,\n",
        "                                   zoom_range=0.2,\n",
        "                                   horizontal_flip=True,\n",
        "                                   validation_split=0.2,)\n",
        "test_datagen = ImageDataGenerator(rescale=1./255)\n",
        "\n",
        "train_generator = train_datagen.flow_from_directory(train_dir,\n",
        "                                                    target_size=(224, 224),\n",
        "                                                    batch_size=32,\n",
        "                                                    class_mode='categorical',\n",
        "                                                    subset='training')\n",
        "\n",
        "val_generator = train_datagen.flow_from_directory(train_dir,\n",
        "                                                    target_size=(224, 224),\n",
        "                                                    batch_size=32,\n",
        "                                                    class_mode='categorical',\n",
        "                                                    subset='validation')\n",
        "test_generator = test_datagen.flow_from_directory(test_dir,\n",
        "                                                  target_size=(224, 224),\n",
        "                                                  batch_size=32,\n",
        "                                                  class_mode='categorical')"
      ],
      "metadata": {
        "id": "ZKraHy0cJCHu"
      },
      "execution_count": null,
      "outputs": []
    },
    {
      "cell_type": "code",
      "source": [
        "# Load the ResNet50 model with pre-trained ImageNet weights\n",
        "base_model = ResNet50(weights='imagenet', include_top=False, input_shape=(224, 224, 3))"
      ],
      "metadata": {
        "id": "-H8UCaN8JKW6"
      },
      "execution_count": null,
      "outputs": []
    },
    {
      "cell_type": "code",
      "source": [
        "# Import necessary libraries\n",
        "import os\n",
        "import numpy as np\n",
        "import matplotlib.pyplot as plt\n",
        "\n",
        "# Set the path to the dataset\n",
        "data_path ='/content/gdrive/MyDrive/archive/skin/test_set'\n",
        "\n",
        "# Define the classes\n",
        "classes = ['malignant', 'benign']\n",
        "\n",
        "# Print 10 images of each class\n",
        "for cls in classes:\n",
        "    cls_path = os.path.join(data_path, cls)\n",
        "    cls_images = os.listdir(cls_path)[:10]\n",
        "    print(f\"{cls.capitalize()} Images:\")\n",
        "    for img_file in cls_images:\n",
        "        img_path = os.path.join(cls_path, img_file)\n",
        "        img = plt.imread(img_path)\n",
        "        plt.imshow(img)\n",
        "        plt.axis('off')\n",
        "        plt.show()\n",
        "    #print('\\n')\n"
      ],
      "metadata": {
        "id": "pGCBntJVl2D8"
      },
      "execution_count": null,
      "outputs": []
    },
    {
      "cell_type": "code",
      "source": [
        "# Add custom layers on top of the pre-trained model\n",
        "x = base_model.output\n",
        "x = Flatten()(x)\n",
        "x = Dense(512, activation='relu')(x)\n",
        "x = Dropout(0.5)(x)\n",
        "#output layer fully connected dance layer with two neuron\n",
        "predictions = Dense(2, activation='softmax')(x)"
      ],
      "metadata": {
        "id": "86hweaXrJTPy"
      },
      "execution_count": null,
      "outputs": []
    },
    {
      "cell_type": "code",
      "source": [
        "import matplotlib.pyplot as plt\n",
        "\n",
        "# Get the first 10 images from the test generator\n",
        "x_test, y_test = next(test_generator)\n",
        "x_test_first10 = x_test[:10]\n",
        "\n",
        "# Plot the first 10 images\n",
        "fig, axes = plt.subplots(nrows=2, ncols=5, figsize=(10, 5))\n",
        "for i, ax in enumerate(axes.flat):\n",
        "    ax.imshow(x_test_first10[i])\n",
        "    ax.set_title(\"Image {}\".format(i+1))\n",
        "    ax.axis('off')\n",
        "plt.tight_layout()\n",
        "plt.show()\n"
      ],
      "metadata": {
        "id": "LRQwZiUjlRmr"
      },
      "execution_count": null,
      "outputs": []
    },
    {
      "cell_type": "code",
      "source": [
        "# Combine the base ResNet50 model with the custom layers\n",
        "model = Model(inputs=base_model.input, outputs=predictions)\n",
        "#model.summary()"
      ],
      "metadata": {
        "id": "qLtlDbZEJZkj"
      },
      "execution_count": null,
      "outputs": []
    },
    {
      "cell_type": "code",
      "source": [
        "# Freeze all layers in the base ResNet50 model\n",
        "for layer in base_model.layers[5:]:\n",
        "    layer.trainable = False\n",
        "# Compile the model\n",
        "model.compile(optimizer='adam', loss='binary_crossentropy', metrics=['accuracy'])\n",
        "model.summary()"
      ],
      "metadata": {
        "id": "ZixoQON-JtNK"
      },
      "execution_count": null,
      "outputs": []
    },
    {
      "cell_type": "code",
      "source": [
        "# Train the model on the training data\n",
        "history = model.fit_generator(train_generator, \n",
        "                              steps_per_epoch=train_generator.n // train_generator.batch_size, \n",
        "                              epochs=45, \n",
        "                              validation_data=val_generator, \n",
        "                              validation_steps=val_generator.n // val_generator.batch_size)"
      ],
      "metadata": {
        "id": "oii_6XXKKR1c"
      },
      "execution_count": null,
      "outputs": []
    },
    {
      "cell_type": "code",
      "source": [
        "# Plot the loss vs val_loss\n",
        "plt.plot(history.history['loss'], label='Training Loss')\n",
        "plt.plot(history.history['val_loss'], label='Validation Loss')\n",
        "plt.title('Training and Validation Loss')\n",
        "plt.xlabel('Epochs')\n",
        "plt.ylabel('Loss')\n",
        "plt.legend()\n",
        "plt.show()\n",
        "\n",
        "# Plot the accuracy vs val_accuracy\n",
        "plt.plot(history.history['accuracy'], label='Training Accuracy')\n",
        "plt.plot(history.history['val_accuracy'], label='Validation Accuracy')\n",
        "plt.title('Training and Validation Accuracy')\n",
        "plt.xlabel('Epochs')\n",
        "plt.ylabel('Accuracy')\n",
        "plt.legend()\n",
        "plt.show()"
      ],
      "metadata": {
        "id": "dCAfeTJmr2rc"
      },
      "execution_count": null,
      "outputs": []
    },
    {
      "cell_type": "code",
      "source": [
        "# Evaluate the model on the testing data\n",
        "test_loss, test_acc = model.evaluate(test_generator, verbose=2)\n",
        "print('Test Accuracy:', test_acc)\n",
        "# Print the train and test loss\n",
        "print('Train Loss:', history.history['loss'][-1])\n",
        "print('Test Loss:', test_loss)\n",
        "print('Test Accuracy:', test_acc)\n",
        "# Plot the train and validation loss over epochs\n",
        "plt.plot(history.history['loss'])\n",
        "plt.plot(history.history['val_loss'])\n",
        "plt.title('Model Loss')\n",
        "plt.xlabel('Epochs')\n",
        "plt.ylabel('Loss')\n",
        "plt.legend(['Train', 'Validation'])\n",
        "plt.show()\n"
      ],
      "metadata": {
        "id": "IaFNaGwdKZoA"
      },
      "execution_count": null,
      "outputs": []
    },
    {
      "cell_type": "code",
      "source": [
        "# Evaluate the model on the testing data\n",
        "test_loss, test_acc = model.evaluate(test_generator, verbose=2)\n",
        "print('Test Accuracy:', test_acc)\n",
        "\n",
        "# Plot the training and testing accuracy\n",
        "plt.plot(history.history['accuracy'])\n",
        "plt.plot(history.history['val_accuracy'])\n",
        "plt.title('Model Accuracy')\n",
        "plt.xlabel('Epoch')\n",
        "plt.ylabel('Accuracy')\n",
        "plt.legend(['Train', 'val'], loc='upper left')\n",
        "plt.show()"
      ],
      "metadata": {
        "id": "xsiUL1VexWJ0"
      },
      "execution_count": null,
      "outputs": []
    },
    {
      "cell_type": "code",
      "source": [
        "import matplotlib.pyplot as plt\n",
        "\n",
        "# Get the next batch of images from the test generator\n",
        "x_test, y_test = next(test_generator)\n",
        "\n",
        "# Predict the classes of the testing data\n",
        "y_pred = model.predict(x_test)\n",
        "y_pred_classes = np.argmax(y_pred, axis=1)\n",
        "y_true_classes = np.argmax(y_test, axis=1)\n",
        "label_dict = {0: 'benign', 1: 'malignant'}\n",
        "\n",
        "# Plot the images along with their predicted and actual labels\n",
        "fig, axes = plt.subplots(nrows=4, ncols=4, figsize=(12,12))\n",
        "for i, ax in enumerate(axes.flat):\n",
        "    ax.imshow(x_test[i])\n",
        "    pred_label = label_dict[y_pred_classes[i]]\n",
        "    true_label = label_dict[y_true_classes[i]]\n",
        "    ax.set_title(\"Pred: {}\\nTrue: {}\".format(pred_label, true_label))\n",
        "    ax.axis('off')\n",
        "plt.tight_layout()\n",
        "plt.show()"
      ],
      "metadata": {
        "id": "RyPbmrOSvlSi"
      },
      "execution_count": null,
      "outputs": []
    },
    {
      "cell_type": "code",
      "source": [
        "# Create confusion matrix\n",
        "cm = confusion_matrix(y_true_classes, y_pred_classes)\n",
        "\n",
        "# Plot confusion matrix\n",
        "sns.heatmap(cm, annot=True, fmt='d', cmap='Blues')\n",
        "plt.title('Confusion Matrix')\n",
        "plt.xlabel('Predicted Label')\n",
        "plt.ylabel('True Label')\n",
        "plt.show()"
      ],
      "metadata": {
        "id": "QKnIHGlNu1ws"
      },
      "execution_count": null,
      "outputs": []
    },
    {
      "cell_type": "code",
      "source": [],
      "metadata": {
        "id": "JYSrbG9S6gcp"
      },
      "execution_count": null,
      "outputs": []
    }
  ],
  "metadata": {
    "colab": {
      "provenance": [],
      "private_outputs": true
    },
    "kernelspec": {
      "display_name": "Python 3",
      "name": "python3"
    },
    "accelerator": "GPU",
    "gpuClass": "standard"
  },
  "nbformat": 4,
  "nbformat_minor": 0
}